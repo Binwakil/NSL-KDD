{
 "cells": [
  {
   "cell_type": "markdown",
   "id": "0eea24f4",
   "metadata": {},
   "source": [
    "# TabNet Pipeline for Intrusion Detection"
   ]
  },
  {
   "cell_type": "code",
   "execution_count": 7,
   "id": "d287786b",
   "metadata": {},
   "outputs": [],
   "source": [
    "# Import Required Libraries\n",
    "# Ensure you have the following installed: pytorch-tabnet, sklearn, pandas, numpy, matplotlib, seaborn\n",
    "# Install with: pip install pytorch-tabnet numpy pandas scikit-learn matplotlib seaborn\n",
    "\n",
    "import numpy as np\n",
    "import pandas as pd\n",
    "from sklearn.model_selection import train_test_split\n",
    "from sklearn.preprocessing import StandardScaler\n",
    "from sklearn.metrics import confusion_matrix, classification_report, roc_curve, auc\n",
    "from matplotlib import pyplot as plt\n",
    "from pytorch_tabnet.tab_model import TabNetClassifier\n",
    "import torch\n",
    "import seaborn as sns\n",
    "\n",
    "# Create a folder for visualizations\n",
    "import os\n",
    "os.makedirs(\"visualization\", exist_ok=True)"
   ]
  },
  {
   "cell_type": "markdown",
   "id": "8bba860a",
   "metadata": {},
   "source": [
    "## Step 1: Load Data"
   ]
  },
  {
   "cell_type": "code",
   "execution_count": 8,
   "id": "5b872ff2",
   "metadata": {},
   "outputs": [],
   "source": [
    "# Column names for NSL-KDD dataset\n",
    "c_names = [\n",
    "    \"duration\", \"protocol_type\", \"service\", \"flag\", \"src_bytes\", \"dst_bytes\",\n",
    "    \"land\", \"wrong_fragment\", \"urgent\", \"hot\", \"num_failed_logins\", \"logged_in\",\n",
    "    \"num_compromised\", \"root_shell\", \"su_attempted\", \"num_root\", \"num_file_creations\",\n",
    "    \"num_shells\", \"num_access_files\", \"num_outbound_cmds\", \"is_host_login\", \"is_guest_login\",\n",
    "    \"count\", \"srv_count\", \"serror_rate\", \"srv_serror_rate\", \"rerror_rate\", \"srv_rerror_rate\",\n",
    "    \"same_srv_rate\", \"diff_srv_rate\", \"srv_diff_host_rate\", \"dst_host_count\", \"dst_host_srv_count\",\n",
    "    \"dst_host_same_srv_rate\", \"dst_host_diff_srv_rate\", \"dst_host_same_src_port_rate\",\n",
    "    \"dst_host_srv_diff_host_rate\", \"dst_host_serror_rate\", \"dst_host_srv_serror_rate\",\n",
    "    \"dst_host_rerror_rate\", \"dst_host_srv_rerror_rate\", \"labels\"\n",
    "]\n",
    "\n",
    "# Load training and testing datasets\n",
    "train = pd.read_csv(\"data/KDDTrain+.txt\", names=c_names)\n",
    "test = pd.read_csv(\"data/KDDTest+.txt\", names=c_names)"
   ]
  },
  {
   "cell_type": "markdown",
   "id": "2639df8d",
   "metadata": {},
   "source": [
    "## Step 2: Data Preprocessing"
   ]
  },
  {
   "cell_type": "code",
   "execution_count": 12,
   "id": "97aecd76",
   "metadata": {},
   "outputs": [],
   "source": [
    "# Convert categorical features to numerical\n",
    "categorical_features = [\"protocol_type\", \"service\", \"flag\"]\n",
    "\n",
    "for col in categorical_features:\n",
    "    train[col] = train[col].astype(\"category\").cat.codes\n",
    "    test[col] = test[col].astype(\"category\").cat.codes\n",
    "\n",
    "# Map 'labels' column to binary classes (1 for 'normal', 0 for 'attack')\n",
    "train[\"labels\"] = train[\"labels\"].apply(lambda x: 1 if x == \"normal\" else 0)\n",
    "test[\"labels\"] = test[\"labels\"].apply(lambda x: 1 if x == \"normal\" else 0)\n",
    "\n",
    "# Separate features and labels\n",
    "# Ensure only numeric columns are used for scaling\n",
    "numerical_columns = train.select_dtypes(include=[\"int64\", \"float64\"]).columns\n",
    "X_train = train[numerical_columns].drop(\"labels\", axis=1).values\n",
    "X_test = test[numerical_columns].drop(\"labels\", axis=1).values\n",
    "y_train = train[\"labels\"].values\n",
    "y_test = test[\"labels\"].values\n",
    "\n",
    "# Normalize numerical features\n",
    "scaler = StandardScaler()\n",
    "X_train = scaler.fit_transform(X_train)\n",
    "X_test = scaler.transform(X_test)\n",
    "\n",
    "# Split training data into training and validation sets\n",
    "x_train, x_val, y_train, y_val = train_test_split(X_train, y_train, test_size=0.2, random_state=42, stratify=y_train)"
   ]
  },
  {
   "cell_type": "markdown",
   "id": "c70ffaec",
   "metadata": {},
   "source": [
    "## Step 3: Build TabNet Model"
   ]
  },
  {
   "cell_type": "code",
   "execution_count": 13,
   "id": "8dbde747",
   "metadata": {},
   "outputs": [
    {
     "name": "stderr",
     "output_type": "stream",
     "text": [
      "/home/wakili/anaconda3/envs/mlenv/lib/python3.8/site-packages/pytorch_tabnet/abstract_model.py:82: UserWarning: Device used : cuda\n",
      "  warnings.warn(f\"Device used : {self.device}\")\n"
     ]
    }
   ],
   "source": [
    "clf = TabNetClassifier(\n",
    "    n_d=32, n_a=32, n_steps=5,\n",
    "    gamma=1.5, lambda_sparse=1e-3,\n",
    "    optimizer_fn=torch.optim.Adam,\n",
    "    optimizer_params=dict(lr=2e-2),\n",
    "    scheduler_params={\"step_size\":10, \"gamma\":0.9},\n",
    "    scheduler_fn=torch.optim.lr_scheduler.StepLR,\n",
    "    mask_type=\"entmax\"\n",
    ")"
   ]
  },
  {
   "cell_type": "markdown",
   "id": "9495d80e",
   "metadata": {},
   "source": [
    "## Step 4: Train the TabNet Model"
   ]
  },
  {
   "cell_type": "code",
   "execution_count": 14,
   "id": "55147284",
   "metadata": {},
   "outputs": [
    {
     "name": "stdout",
     "output_type": "stream",
     "text": [
      "Training TabNet Model...\n",
      "epoch 0  | loss: 0.00015 | train_accuracy: 1.0     | valid_accuracy: 1.0     |  0:00:10s\n",
      "epoch 1  | loss: 2e-05   | train_accuracy: 1.0     | valid_accuracy: 1.0     |  0:00:21s\n",
      "epoch 2  | loss: 1e-05   | train_accuracy: 1.0     | valid_accuracy: 1.0     |  0:00:32s\n",
      "epoch 3  | loss: 1e-05   | train_accuracy: 1.0     | valid_accuracy: 1.0     |  0:00:43s\n",
      "epoch 4  | loss: 1e-05   | train_accuracy: 1.0     | valid_accuracy: 1.0     |  0:00:53s\n",
      "epoch 5  | loss: 1e-05   | train_accuracy: 1.0     | valid_accuracy: 1.0     |  0:01:04s\n",
      "epoch 6  | loss: 0.0     | train_accuracy: 1.0     | valid_accuracy: 1.0     |  0:01:15s\n",
      "epoch 7  | loss: 0.0     | train_accuracy: 1.0     | valid_accuracy: 1.0     |  0:01:26s\n",
      "epoch 8  | loss: 0.0     | train_accuracy: 1.0     | valid_accuracy: 1.0     |  0:01:37s\n",
      "epoch 9  | loss: 1e-05   | train_accuracy: 1.0     | valid_accuracy: 1.0     |  0:01:48s\n",
      "epoch 10 | loss: 0.0     | train_accuracy: 1.0     | valid_accuracy: 1.0     |  0:01:59s\n",
      "\n",
      "Early stopping occurred at epoch 10 with best_epoch = 0 and best_valid_accuracy = 1.0\n"
     ]
    },
    {
     "name": "stderr",
     "output_type": "stream",
     "text": [
      "/home/wakili/anaconda3/envs/mlenv/lib/python3.8/site-packages/pytorch_tabnet/callbacks.py:172: UserWarning: Best weights from best epoch are automatically used!\n",
      "  warnings.warn(wrn_msg)\n"
     ]
    }
   ],
   "source": [
    "print(\"Training TabNet Model...\")\n",
    "clf.fit(\n",
    "    x_train, y_train,\n",
    "    eval_set=[(x_train, y_train), (x_val, y_val)],\n",
    "    eval_name=[\"train\", \"valid\"],\n",
    "    eval_metric=[\"accuracy\"],\n",
    "    max_epochs=50,\n",
    "    patience=10,\n",
    "    batch_size=256,\n",
    "    virtual_batch_size=128,\n",
    "    num_workers=0,\n",
    "    drop_last=False\n",
    ")"
   ]
  },
  {
   "cell_type": "markdown",
   "id": "b46ba8bd",
   "metadata": {},
   "source": [
    "## Step 5: Evaluate the Model"
   ]
  },
  {
   "cell_type": "code",
   "execution_count": 15,
   "id": "b12b4485",
   "metadata": {},
   "outputs": [
    {
     "ename": "IndexError",
     "evalue": "index 1 is out of bounds for axis 1 with size 1",
     "output_type": "error",
     "traceback": [
      "\u001b[0;31m---------------------------------------------------------------------------\u001b[0m",
      "\u001b[0;31mIndexError\u001b[0m                                Traceback (most recent call last)",
      "Cell \u001b[0;32mIn[15], line 3\u001b[0m\n\u001b[1;32m      1\u001b[0m \u001b[38;5;66;03m# Evaluate on the test set\u001b[39;00m\n\u001b[1;32m      2\u001b[0m test_preds \u001b[38;5;241m=\u001b[39m clf\u001b[38;5;241m.\u001b[39mpredict(X_test)\n\u001b[0;32m----> 3\u001b[0m test_proba \u001b[38;5;241m=\u001b[39m \u001b[43mclf\u001b[49m\u001b[38;5;241;43m.\u001b[39;49m\u001b[43mpredict_proba\u001b[49m\u001b[43m(\u001b[49m\u001b[43mX_test\u001b[49m\u001b[43m)\u001b[49m\u001b[43m[\u001b[49m\u001b[43m:\u001b[49m\u001b[43m,\u001b[49m\u001b[43m \u001b[49m\u001b[38;5;241;43m1\u001b[39;49m\u001b[43m]\u001b[49m\n\u001b[1;32m      5\u001b[0m \u001b[38;5;66;03m# Confusion Matrix\u001b[39;00m\n\u001b[1;32m      6\u001b[0m cm \u001b[38;5;241m=\u001b[39m confusion_matrix(y_test, test_preds)\n",
      "\u001b[0;31mIndexError\u001b[0m: index 1 is out of bounds for axis 1 with size 1"
     ]
    }
   ],
   "source": [
    "# Evaluate on the test set\n",
    "test_preds = clf.predict(X_test)\n",
    "test_proba = clf.predict_proba(X_test)[:, 1]\n",
    "\n",
    "# Confusion Matrix\n",
    "cm = confusion_matrix(y_test, test_preds)\n",
    "plt.figure(figsize=(8, 6))\n",
    "sns.heatmap(cm, annot=True, fmt=\"d\", cmap=\"Blues\", xticklabels=[\"Attack\", \"Normal\"], yticklabels=[\"Attack\", \"Normal\"])\n",
    "plt.title(\"Confusion Matrix\", fontsize=14)\n",
    "plt.xlabel(\"Predicted Label\", fontsize=12)\n",
    "plt.ylabel(\"True Label\", fontsize=12)\n",
    "plt.tight_layout()\n",
    "plt.savefig(\"visualization/tabnet_confusion_matrix.png\")\n",
    "plt.close()\n",
    "\n",
    "# Classification Report\n",
    "report = classification_report(y_test, test_preds, target_names=[\"Attack\", \"Normal\"], output_dict=True)\n",
    "print(\"Classification Report:\\n\", classification_report(y_test, test_preds, target_names=[\"Attack\", \"Normal\"]))\n",
    "\n",
    "# ROC Curve\n",
    "fpr, tpr, _ = roc_curve(y_test, test_proba)\n",
    "roc_auc = auc(fpr, tpr)\n",
    "plt.figure(figsize=(8, 6))\n",
    "plt.plot(fpr, tpr, color=\"darkorange\", lw=2, label=f\"ROC curve (area = {roc_auc:.2f})\")\n",
    "plt.plot([0, 1], [0, 1], color=\"navy\", lw=2, linestyle=\"--\")\n",
    "plt.title(\"Receiver Operating Characteristic\", fontsize=14)\n",
    "plt.xlabel(\"False Positive Rate\", fontsize=12)\n",
    "plt.ylabel(\"True Positive Rate\", fontsize=12)\n",
    "plt.legend(loc=\"lower right\")\n",
    "plt.grid(True)\n",
    "plt.tight_layout()\n",
    "plt.savefig(\"visualization/tabnet_roc_curve.png\")\n",
    "plt.close()"
   ]
  },
  {
   "cell_type": "markdown",
   "id": "3c65f734",
   "metadata": {},
   "source": [
    "## Step 6: Feature Importance"
   ]
  },
  {
   "cell_type": "code",
   "execution_count": 16,
   "id": "ddf2cc47",
   "metadata": {},
   "outputs": [
    {
     "name": "stdout",
     "output_type": "stream",
     "text": [
      "Pipeline complete. All visualizations saved to the 'visualization' folder.\n"
     ]
    }
   ],
   "source": [
    "# Plot Feature Importance\n",
    "feature_importances = clf.feature_importances_\n",
    "plt.figure(figsize=(10, 6))\n",
    "plt.bar(range(len(feature_importances)), feature_importances)\n",
    "plt.title(\"TabNet Feature Importances\", fontsize=14)\n",
    "plt.xlabel(\"Feature Index\", fontsize=12)\n",
    "plt.ylabel(\"Importance\", fontsize=12)\n",
    "plt.tight_layout()\n",
    "plt.savefig(\"visualization/tabnet_feature_importance.png\")\n",
    "plt.close()\n",
    "\n",
    "print(\"Pipeline complete. All visualizations saved to the 'visualization' folder.\")"
   ]
  },
  {
   "cell_type": "code",
   "execution_count": null,
   "id": "c3fa0754",
   "metadata": {},
   "outputs": [],
   "source": []
  }
 ],
 "metadata": {
  "kernelspec": {
   "display_name": "mlenv",
   "language": "python",
   "name": "python3"
  },
  "language_info": {
   "codemirror_mode": {
    "name": "ipython",
    "version": 3
   },
   "file_extension": ".py",
   "mimetype": "text/x-python",
   "name": "python",
   "nbconvert_exporter": "python",
   "pygments_lexer": "ipython3",
   "version": "3.8.20"
  }
 },
 "nbformat": 4,
 "nbformat_minor": 5
}
